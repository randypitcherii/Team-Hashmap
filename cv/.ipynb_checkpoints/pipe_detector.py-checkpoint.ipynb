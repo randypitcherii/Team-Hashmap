{
 "cells": [
  {
   "cell_type": "code",
   "execution_count": null,
   "metadata": {},
   "outputs": [],
   "source": [
    "from skimage.io import imread\n",
    "from skimage.color import rgb2gray\n",
    "from skimage.exposure import rescale_intensity\n",
    "from skimage.util import invert\n",
    "\n",
    "import numpy as np\n",
    "import matplotlib.pyplot as plt"
   ]
  },
  {
   "cell_type": "code",
   "execution_count": 1,
   "metadata": {},
   "outputs": [],
   "source": [
    "def get_preprocessed_img(img_path):\n",
    "    \"\"\"\n",
    "    This function accepts a path to an image\n",
    "    file and returns a tuple containing the \n",
    "    unaltered rgb image and the preprocessed image\n",
    "    \"\"\"\n",
    "    # read image \n",
    "    img_rgb = imread(img_path)\n",
    "    \n",
    "    # make image gray\n",
    "    img_gray = rgb2gray(img_rgb)\n",
    "    \n",
    "    # Contrast stretching\n",
    "    p_start, p_end = np.percentile(img_gray, (1, 15))\n",
    "    img_gray_rescale = rescale_intensity(img_gray, in_range=(p_start, p_end))\n",
    "    \n",
    "    # invert image\n",
    "    img_gray_rescale_inverted = invert(img_rescale)\n",
    "    \n",
    "    return (img_rgb, img_gray_rescale_inverted)\n",
    "    \n",
    "    \n",
    "def doh_detect_pipes(img_path, show=False):\n",
    "    \"\"\"\n",
    "    This function accepts a path to an image\n",
    "    file and returns the int number of pipes\n",
    "    detected in the image.\n",
    "    \n",
    "    If the optional show param is set to true, the resuls\n",
    "    are plotted visually before returning pipe counts.\n",
    "    \"\"\"\n",
    "    # get images\n",
    "    img_rgb, img_preprocessed = get_preprocessed_img(img_path)\n",
    "    \n",
    "    # detect pipes\n",
    "    pipes = blob_doh(img_gray_inverted, max_sigma=150, \n",
    "                         min_sigma=45, threshold=0.01, overlap=0.01)\n",
    "    \n",
    "    # plot detection\n",
    "    if show:\n",
    "        fig = plt.figure(dpi=300)\n",
    "        ax = fig.add_subplot(1, 1, 1)\n",
    "        \n",
    "        ax.imshow(img_rgb)\n",
    "        for pipe in pipes:\n",
    "            y, x, r = pipe\n",
    "            c = plt.Circle((x, y), r, color='blue', linewidth=2, fill=False)\n",
    "            ax.add_patch(c)\n",
    "        ax.set_axis_off()\n",
    "        \n",
    "        print(f\"Found {len(blobs)} pipes. About 36 are present\")\n",
    "        plt.show()\n",
    "    \n",
    "    return len(pipes)"
   ]
  },
  {
   "cell_type": "code",
   "execution_count": null,
   "metadata": {},
   "outputs": [],
   "source": []
  }
 ],
 "metadata": {
  "kernelspec": {
   "display_name": "Python 3",
   "language": "python",
   "name": "python3"
  },
  "language_info": {
   "codemirror_mode": {
    "name": "ipython",
    "version": 3
   },
   "file_extension": ".py",
   "mimetype": "text/x-python",
   "name": "python",
   "nbconvert_exporter": "python",
   "pygments_lexer": "ipython3",
   "version": "3.7.0"
  }
 },
 "nbformat": 4,
 "nbformat_minor": 2
}
