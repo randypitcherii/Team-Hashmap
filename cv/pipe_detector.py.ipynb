{
 "cells": [
  {
   "cell_type": "code",
   "execution_count": null,
   "metadata": {
    "scrolled": true
   },
   "outputs": [],
   "source": [
    "import os\n",
    "import random\n",
    "\n",
    "import numpy as np\n",
    "import cv2\n",
    "import matplotlib.pyplot as plt\n",
    "\n",
    "from skimage.color import rgb2gray\n",
    "from skimage.exposure import rescale_intensity\n",
    "from skimage.feature import blob_dog, blob_doh\n",
    "from skimage.io import imread\n",
    "from skimage.util import invert"
   ]
  },
  {
   "cell_type": "code",
   "execution_count": null,
   "metadata": {
    "scrolled": true
   },
   "outputs": [],
   "source": [
    "def preprocess_img(img_rgb):\n",
    "    \"\"\"\n",
    "    This function accepts an rgb image and \n",
    "    returns a tuple containing the \n",
    "    unaltered rgb image and the preprocessed image\n",
    "    \"\"\"\n",
    "    # make image gray\n",
    "    img_gray = rgb2gray(img_rgb)\n",
    "    \n",
    "    # Contrast stretching\n",
    "    p_start, p_end = np.percentile(img_gray, (1, 15))\n",
    "    img_gray_rescale = rescale_intensity(img_gray, in_range=(p_start, p_end))\n",
    "    \n",
    "    # invert image\n",
    "    img_gray_rescale_inverted = invert(img_gray_rescale)\n",
    "    \n",
    "    return (img_rgb, img_gray_rescale_inverted)\n",
    "\n",
    "\n",
    "def get_preprocessed_img_from_path(img_path):\n",
    "    \"\"\"\n",
    "    This function accepts a path to an image\n",
    "    file and returns a tuple containing the \n",
    "    unaltered rgb image and the preprocessed image\n",
    "    \"\"\"\n",
    "    # read image \n",
    "    img_rgb = imread(img_path)\n",
    "    \n",
    "    # preprocess image\n",
    "    return preprocess_img(img_rgb)\n",
    "    \n",
    "    \n",
    "def doh_detect_pipes(img_path=None, img=None , show=False):\n",
    "    \"\"\"\n",
    "    This function accepts a path to an image\n",
    "    file or an img file and returns the int number of pipes\n",
    "    detected in the image.\n",
    "    \n",
    "    If the optional show param is set to true, the resuls\n",
    "    are plotted visually before returning pipe counts.\n",
    "    \"\"\"\n",
    "    # get images\n",
    "    if img is None:\n",
    "        img_rgb, img_preprocessed = get_preprocessed_img_from_path(img_path)\n",
    "    else:\n",
    "        img_rgb, img_preprocessed = preprocess_img(img)\n",
    "    \n",
    "    # detect pipes\n",
    "    pipes = blob_doh(img_preprocessed, max_sigma=150, \n",
    "                         min_sigma=45, threshold=0.005, overlap=0.01)\n",
    "    \n",
    "    # plot detection\n",
    "    if show:\n",
    "        fig = plt.figure(dpi=300)\n",
    "        ax = fig.add_subplot(1, 1, 1)\n",
    "        ax.imshow(img_rgb)\n",
    "        ax.set_axis_off()\n",
    "        \n",
    "        for pipe in pipes:\n",
    "            y, x, r = pipe\n",
    "            c = plt.Circle((x, y), r, color='cyan', linewidth=2, fill=False)\n",
    "            ax.add_patch(c)\n",
    "            \n",
    "        plt.show()\n",
    "    \n",
    "    return len(pipes)"
   ]
  },
  {
   "cell_type": "code",
   "execution_count": null,
   "metadata": {
    "scrolled": true
   },
   "outputs": [],
   "source": [
    "# get all image files\n",
    "imgs_dir = '../images/'\n",
    "img_and_video_files = os.listdir(imgs_dir)\n",
    "random.shuffle(img_and_video_files) # this makes repeat demos more interesting\n",
    "img_files = filter(lambda filename: filename.endswith('.jpg') or filename.endswith('.JPG'), img_and_video_files)\n",
    "\n",
    "# find pipes\n",
    "for img_file in img_files:\n",
    "    path = imgs_dir + img_file\n",
    "    num_pipes = doh_detect_pipes(img_path=path, show=True)\n",
    "    print(f\"Found {num_pipes} in {img_file}\\n\\n\")"
   ]
  },
  {
   "cell_type": "code",
   "execution_count": null,
   "metadata": {
    "scrolled": true
   },
   "outputs": [],
   "source": [
    "def detect_pipes_from_webcam():\n",
    "    \"\"\"\n",
    "    This method takes a frame from the webcam and\n",
    "    looks for pipes.\n",
    "    \"\"\"\n",
    "    # start capture\n",
    "    cap = cv2.VideoCapture(0)\n",
    "\n",
    "    # get frame\n",
    "    for _ in range(2): # this delays long enough for the mac camera to warm up\n",
    "        ret, frame = cap.read()\n",
    "    cap.release() # end capture\n",
    "\n",
    "    # convert image from BGR to RGB\n",
    "    frame = frame[:, :, ::-1]\n",
    "\n",
    "    # look for pipes\n",
    "    num_pipes = doh_detect_pipes(img=frame, show=True)\n",
    "    print(f\"Found {num_pipes} from webcam\\n\\n\")\n",
    "\n"
   ]
  },
  {
   "cell_type": "code",
   "execution_count": null,
   "metadata": {
    "scrolled": false
   },
   "outputs": [],
   "source": [
    "while True:\n",
    "    detect_pipes_from_webcam()"
   ]
  },
  {
   "cell_type": "code",
   "execution_count": null,
   "metadata": {
    "scrolled": true
   },
   "outputs": [],
   "source": []
  }
 ],
 "metadata": {
  "kernelspec": {
   "display_name": "Python 3",
   "language": "python",
   "name": "python3"
  },
  "language_info": {
   "codemirror_mode": {
    "name": "ipython",
    "version": 3
   },
   "file_extension": ".py",
   "mimetype": "text/x-python",
   "name": "python",
   "nbconvert_exporter": "python",
   "pygments_lexer": "ipython3",
   "version": "3.7.0"
  }
 },
 "nbformat": 4,
 "nbformat_minor": 2
}
